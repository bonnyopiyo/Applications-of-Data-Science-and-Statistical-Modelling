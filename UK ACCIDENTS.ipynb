{
 "cells": [
  {
   "cell_type": "markdown",
   "id": "130d3d0b",
   "metadata": {},
   "source": [
    "# Data Science and Statistical Modelling\n",
    "\n",
    "# Libraries"
   ]
  },
  {
   "cell_type": "code",
   "execution_count": 2,
   "id": "d5b44da2",
   "metadata": {},
   "outputs": [],
   "source": [
    "# Builtin Libraries\n",
    "import sys\n",
    "import warnings\n",
    "\n",
    "import pandas as pd \n",
    "import numpy as np\n",
    "import matplotlib.pyplot as plt\n",
    "import seaborn as sns\n",
    "\n",
    "#import machine learning libraries\n",
    "from sklearn.linear_model import LinearRegression\n",
    "from sklearn.decomposition import PCA"
   ]
  },
  {
   "cell_type": "markdown",
   "id": "c455ab2d",
   "metadata": {},
   "source": [
    "## Libraries Configuragion"
   ]
  },
  {
   "cell_type": "code",
   "execution_count": 3,
   "id": "fb43d5e2",
   "metadata": {},
   "outputs": [],
   "source": [
    "pd.set_option('display.max_columns', None)\n",
    "pd.set_option('display.max_colwidth', None)\n",
    "%matplotlib inline"
   ]
  },
  {
   "cell_type": "markdown",
   "id": "9e10ef05",
   "metadata": {},
   "source": [
    "# A. Python\n",
    "## Traffic Accidents"
   ]
  },
  {
   "cell_type": "markdown",
   "id": "10621f62",
   "metadata": {},
   "source": [
    "### 1. Download and import traffic accidents data"
   ]
  },
  {
   "cell_type": "code",
   "execution_count": 4,
   "id": "75eb64be",
   "metadata": {},
   "outputs": [
    {
     "name": "stderr",
     "output_type": "stream",
     "text": [
      "C:\\Users\\CyberCraft Academy\\anaconda3\\lib\\site-packages\\IPython\\core\\interactiveshell.py:3165: DtypeWarning: Columns (0,2,35) have mixed types.Specify dtype option on import or set low_memory=False.\n",
      "  has_raised = await self.run_ast_nodes(code_ast.body, cell_name,\n"
     ]
    },
    {
     "data": {
      "text/html": [
       "<div>\n",
       "<style scoped>\n",
       "    .dataframe tbody tr th:only-of-type {\n",
       "        vertical-align: middle;\n",
       "    }\n",
       "\n",
       "    .dataframe tbody tr th {\n",
       "        vertical-align: top;\n",
       "    }\n",
       "\n",
       "    .dataframe thead th {\n",
       "        text-align: right;\n",
       "    }\n",
       "</style>\n",
       "<table border=\"1\" class=\"dataframe\">\n",
       "  <thead>\n",
       "    <tr style=\"text-align: right;\">\n",
       "      <th></th>\n",
       "      <th>accident_index</th>\n",
       "      <th>accident_year</th>\n",
       "      <th>accident_reference</th>\n",
       "      <th>location_easting_osgr</th>\n",
       "      <th>location_northing_osgr</th>\n",
       "      <th>longitude</th>\n",
       "      <th>latitude</th>\n",
       "      <th>police_force</th>\n",
       "      <th>accident_severity</th>\n",
       "      <th>number_of_vehicles</th>\n",
       "      <th>number_of_casualties</th>\n",
       "      <th>date</th>\n",
       "      <th>day_of_week</th>\n",
       "      <th>time</th>\n",
       "      <th>local_authority_district</th>\n",
       "      <th>local_authority_ons_district</th>\n",
       "      <th>local_authority_highway</th>\n",
       "      <th>first_road_class</th>\n",
       "      <th>first_road_number</th>\n",
       "      <th>road_type</th>\n",
       "      <th>speed_limit</th>\n",
       "      <th>junction_detail</th>\n",
       "      <th>junction_control</th>\n",
       "      <th>second_road_class</th>\n",
       "      <th>second_road_number</th>\n",
       "      <th>pedestrian_crossing_human_control</th>\n",
       "      <th>pedestrian_crossing_physical_facilities</th>\n",
       "      <th>light_conditions</th>\n",
       "      <th>weather_conditions</th>\n",
       "      <th>road_surface_conditions</th>\n",
       "      <th>special_conditions_at_site</th>\n",
       "      <th>carriageway_hazards</th>\n",
       "      <th>urban_or_rural_area</th>\n",
       "      <th>did_police_officer_attend_scene_of_accident</th>\n",
       "      <th>trunk_road_flag</th>\n",
       "      <th>lsoa_of_accident_location</th>\n",
       "    </tr>\n",
       "  </thead>\n",
       "  <tbody>\n",
       "    <tr>\n",
       "      <th>0</th>\n",
       "      <td>2019010128300</td>\n",
       "      <td>2019</td>\n",
       "      <td>10128300</td>\n",
       "      <td>528218.0</td>\n",
       "      <td>180407.0</td>\n",
       "      <td>-0.153842</td>\n",
       "      <td>51.508057</td>\n",
       "      <td>1</td>\n",
       "      <td>3</td>\n",
       "      <td>2</td>\n",
       "      <td>3</td>\n",
       "      <td>18/02/2019</td>\n",
       "      <td>2</td>\n",
       "      <td>17:50</td>\n",
       "      <td>1</td>\n",
       "      <td>E09000033</td>\n",
       "      <td>E09000033</td>\n",
       "      <td>3</td>\n",
       "      <td>4202</td>\n",
       "      <td>1</td>\n",
       "      <td>30</td>\n",
       "      <td>1</td>\n",
       "      <td>2</td>\n",
       "      <td>3</td>\n",
       "      <td>4202</td>\n",
       "      <td>0</td>\n",
       "      <td>5</td>\n",
       "      <td>1</td>\n",
       "      <td>1</td>\n",
       "      <td>1</td>\n",
       "      <td>0</td>\n",
       "      <td>0</td>\n",
       "      <td>1</td>\n",
       "      <td>3</td>\n",
       "      <td>2</td>\n",
       "      <td>E01004762</td>\n",
       "    </tr>\n",
       "    <tr>\n",
       "      <th>1</th>\n",
       "      <td>2019010152270</td>\n",
       "      <td>2019</td>\n",
       "      <td>10152270</td>\n",
       "      <td>530219.0</td>\n",
       "      <td>172463.0</td>\n",
       "      <td>-0.127949</td>\n",
       "      <td>51.436208</td>\n",
       "      <td>1</td>\n",
       "      <td>3</td>\n",
       "      <td>2</td>\n",
       "      <td>1</td>\n",
       "      <td>15/01/2019</td>\n",
       "      <td>3</td>\n",
       "      <td>21:45</td>\n",
       "      <td>9</td>\n",
       "      <td>E09000022</td>\n",
       "      <td>E09000022</td>\n",
       "      <td>3</td>\n",
       "      <td>23</td>\n",
       "      <td>2</td>\n",
       "      <td>30</td>\n",
       "      <td>0</td>\n",
       "      <td>-1</td>\n",
       "      <td>-1</td>\n",
       "      <td>-1</td>\n",
       "      <td>9</td>\n",
       "      <td>9</td>\n",
       "      <td>4</td>\n",
       "      <td>1</td>\n",
       "      <td>1</td>\n",
       "      <td>0</td>\n",
       "      <td>0</td>\n",
       "      <td>1</td>\n",
       "      <td>3</td>\n",
       "      <td>2</td>\n",
       "      <td>E01003117</td>\n",
       "    </tr>\n",
       "  </tbody>\n",
       "</table>\n",
       "</div>"
      ],
      "text/plain": [
       "  accident_index  accident_year accident_reference  location_easting_osgr  \\\n",
       "0  2019010128300           2019           10128300               528218.0   \n",
       "1  2019010152270           2019           10152270               530219.0   \n",
       "\n",
       "   location_northing_osgr  longitude   latitude  police_force  \\\n",
       "0                180407.0  -0.153842  51.508057             1   \n",
       "1                172463.0  -0.127949  51.436208             1   \n",
       "\n",
       "   accident_severity  number_of_vehicles  number_of_casualties        date  \\\n",
       "0                  3                   2                     3  18/02/2019   \n",
       "1                  3                   2                     1  15/01/2019   \n",
       "\n",
       "   day_of_week   time  local_authority_district local_authority_ons_district  \\\n",
       "0            2  17:50                         1                    E09000033   \n",
       "1            3  21:45                         9                    E09000022   \n",
       "\n",
       "  local_authority_highway  first_road_class  first_road_number  road_type  \\\n",
       "0               E09000033                 3               4202          1   \n",
       "1               E09000022                 3                 23          2   \n",
       "\n",
       "   speed_limit  junction_detail  junction_control  second_road_class  \\\n",
       "0           30                1                 2                  3   \n",
       "1           30                0                -1                 -1   \n",
       "\n",
       "   second_road_number  pedestrian_crossing_human_control  \\\n",
       "0                4202                                  0   \n",
       "1                  -1                                  9   \n",
       "\n",
       "   pedestrian_crossing_physical_facilities  light_conditions  \\\n",
       "0                                        5                 1   \n",
       "1                                        9                 4   \n",
       "\n",
       "   weather_conditions  road_surface_conditions  special_conditions_at_site  \\\n",
       "0                   1                        1                           0   \n",
       "1                   1                        1                           0   \n",
       "\n",
       "   carriageway_hazards  urban_or_rural_area  \\\n",
       "0                    0                    1   \n",
       "1                    0                    1   \n",
       "\n",
       "   did_police_officer_attend_scene_of_accident  trunk_road_flag  \\\n",
       "0                                            3                2   \n",
       "1                                            3                2   \n",
       "\n",
       "  lsoa_of_accident_location  \n",
       "0                 E01004762  \n",
       "1                 E01003117  "
      ]
     },
     "execution_count": 4,
     "metadata": {},
     "output_type": "execute_result"
    }
   ],
   "source": [
    "accidents = pd.read_csv(\"C:/Users/CyberCraft Academy/Downloads/dft-road-casualty-statistics-accident-2019.csv\")\n",
    "accidents.head(2)"
   ]
  },
  {
   "cell_type": "markdown",
   "id": "98bb8ec5",
   "metadata": {},
   "source": [
    "## Data Cleaning"
   ]
  },
  {
   "cell_type": "code",
   "execution_count": 5,
   "id": "c090045e",
   "metadata": {},
   "outputs": [
    {
     "data": {
      "text/plain": [
       "0"
      ]
     },
     "execution_count": 5,
     "metadata": {},
     "output_type": "execute_result"
    }
   ],
   "source": [
    "#check duplicates\n",
    "accidents.duplicated().sum()"
   ]
  },
  {
   "cell_type": "code",
   "execution_count": 7,
   "id": "0c349e04",
   "metadata": {},
   "outputs": [
    {
     "data": {
      "text/plain": [
       "accident_index                                  0\n",
       "accident_year                                   0\n",
       "accident_reference                              0\n",
       "location_easting_osgr                          28\n",
       "location_northing_osgr                         28\n",
       "longitude                                      28\n",
       "latitude                                       28\n",
       "police_force                                    0\n",
       "accident_severity                               0\n",
       "number_of_vehicles                              0\n",
       "number_of_casualties                            0\n",
       "date                                            0\n",
       "day_of_week                                     0\n",
       "time                                            0\n",
       "local_authority_district                        0\n",
       "local_authority_ons_district                    0\n",
       "local_authority_highway                         0\n",
       "first_road_class                                0\n",
       "first_road_number                               0\n",
       "road_type                                       0\n",
       "speed_limit                                     0\n",
       "junction_detail                                 0\n",
       "junction_control                                0\n",
       "second_road_class                               0\n",
       "second_road_number                              0\n",
       "pedestrian_crossing_human_control               0\n",
       "pedestrian_crossing_physical_facilities         0\n",
       "light_conditions                                0\n",
       "weather_conditions                              0\n",
       "road_surface_conditions                         0\n",
       "special_conditions_at_site                      0\n",
       "carriageway_hazards                             0\n",
       "urban_or_rural_area                             0\n",
       "did_police_officer_attend_scene_of_accident     0\n",
       "trunk_road_flag                                 0\n",
       "lsoa_of_accident_location                       0\n",
       "dtype: int64"
      ]
     },
     "execution_count": 7,
     "metadata": {},
     "output_type": "execute_result"
    }
   ],
   "source": [
    "#check null values\n",
    "accidents.isna().sum()"
   ]
  },
  {
   "cell_type": "code",
   "execution_count": 6,
   "id": "37f6816a",
   "metadata": {},
   "outputs": [
    {
     "data": {
      "text/plain": [
       "533465.0    8\n",
       "530857.0    7\n",
       "532537.0    7\n",
       "527553.0    7\n",
       "531125.0    7\n",
       "           ..\n",
       "511188.0    1\n",
       "459841.0    1\n",
       "582459.0    1\n",
       "540039.0    1\n",
       "526073.0    1\n",
       "Name: location_easting_osgr, Length: 93266, dtype: int64"
      ]
     },
     "execution_count": 6,
     "metadata": {},
     "output_type": "execute_result"
    }
   ],
   "source": [
    "#check mode of missing values\n",
    "accidents['location_easting_osgr'].value_counts()"
   ]
  },
  {
   "cell_type": "code",
   "execution_count": 7,
   "id": "88118077",
   "metadata": {},
   "outputs": [
    {
     "data": {
      "text/plain": [
       "180992.0    9\n",
       "181092.0    9\n",
       "182780.0    9\n",
       "180819.0    9\n",
       "180979.0    8\n",
       "           ..\n",
       "190665.0    1\n",
       "234511.0    1\n",
       "166810.0    1\n",
       "319638.0    1\n",
       "429702.0    1\n",
       "Name: location_northing_osgr, Length: 93874, dtype: int64"
      ]
     },
     "execution_count": 7,
     "metadata": {},
     "output_type": "execute_result"
    }
   ],
   "source": [
    "accidents['location_northing_osgr'].value_counts()"
   ]
  },
  {
   "cell_type": "code",
   "execution_count": 8,
   "id": "5ba811ee",
   "metadata": {},
   "outputs": [
    {
     "data": {
      "text/plain": [
       "-1.909639    4\n",
       "-1.594158    4\n",
       "-2.715409    4\n",
       "-1.475040    4\n",
       "-1.176676    4\n",
       "            ..\n",
       "-3.423602    1\n",
       "-2.106844    1\n",
       "-1.426521    1\n",
       "-1.949088    1\n",
       "-0.430167    1\n",
       "Name: longitude, Length: 115009, dtype: int64"
      ]
     },
     "execution_count": 8,
     "metadata": {},
     "output_type": "execute_result"
    }
   ],
   "source": [
    "accidents['longitude'].value_counts()"
   ]
  },
  {
   "cell_type": "code",
   "execution_count": 9,
   "id": "145672f0",
   "metadata": {},
   "outputs": [
    {
     "data": {
      "text/plain": [
       "51.450232    6\n",
       "53.810623    4\n",
       "51.565088    4\n",
       "51.573784    4\n",
       "51.473943    4\n",
       "            ..\n",
       "50.350008    1\n",
       "51.460346    1\n",
       "51.626044    1\n",
       "53.795041    1\n",
       "53.792562    1\n",
       "Name: latitude, Length: 113563, dtype: int64"
      ]
     },
     "execution_count": 9,
     "metadata": {},
     "output_type": "execute_result"
    }
   ],
   "source": [
    "accidents['latitude'].value_counts()"
   ]
  },
  {
   "cell_type": "code",
   "execution_count": 10,
   "id": "55ac11d9",
   "metadata": {},
   "outputs": [],
   "source": [
    "# impute with mode\n",
    "accidents['location_easting_osgr']=accidents['location_easting_osgr'].fillna(1)\n",
    "accidents['location_northing_osgr']=accidents['location_northing_osgr'].fillna(1)\n",
    "accidents['longitude']=accidents['longitude'].fillna(4)\n",
    "accidents['latitude']=accidents['latitude'].fillna(1)"
   ]
  },
  {
   "cell_type": "code",
   "execution_count": 13,
   "id": "a4b39c9d",
   "metadata": {},
   "outputs": [
    {
     "name": "stdout",
     "output_type": "stream",
     "text": [
      "<class 'pandas.core.frame.DataFrame'>\n",
      "RangeIndex: 117536 entries, 0 to 117535\n",
      "Data columns (total 36 columns):\n",
      " #   Column                                       Non-Null Count   Dtype  \n",
      "---  ------                                       --------------   -----  \n",
      " 0   accident_index                               117536 non-null  object \n",
      " 1   accident_year                                117536 non-null  int64  \n",
      " 2   accident_reference                           117536 non-null  object \n",
      " 3   location_easting_osgr                        117536 non-null  float64\n",
      " 4   location_northing_osgr                       117536 non-null  float64\n",
      " 5   longitude                                    117536 non-null  float64\n",
      " 6   latitude                                     117536 non-null  float64\n",
      " 7   police_force                                 117536 non-null  int64  \n",
      " 8   accident_severity                            117536 non-null  int64  \n",
      " 9   number_of_vehicles                           117536 non-null  int64  \n",
      " 10  number_of_casualties                         117536 non-null  int64  \n",
      " 11  date                                         117536 non-null  object \n",
      " 12  day_of_week                                  117536 non-null  int64  \n",
      " 13  time                                         117536 non-null  object \n",
      " 14  local_authority_district                     117536 non-null  int64  \n",
      " 15  local_authority_ons_district                 117536 non-null  object \n",
      " 16  local_authority_highway                      117536 non-null  object \n",
      " 17  first_road_class                             117536 non-null  int64  \n",
      " 18  first_road_number                            117536 non-null  int64  \n",
      " 19  road_type                                    117536 non-null  int64  \n",
      " 20  speed_limit                                  117536 non-null  int64  \n",
      " 21  junction_detail                              117536 non-null  int64  \n",
      " 22  junction_control                             117536 non-null  int64  \n",
      " 23  second_road_class                            117536 non-null  int64  \n",
      " 24  second_road_number                           117536 non-null  int64  \n",
      " 25  pedestrian_crossing_human_control            117536 non-null  int64  \n",
      " 26  pedestrian_crossing_physical_facilities      117536 non-null  int64  \n",
      " 27  light_conditions                             117536 non-null  int64  \n",
      " 28  weather_conditions                           117536 non-null  int64  \n",
      " 29  road_surface_conditions                      117536 non-null  int64  \n",
      " 30  special_conditions_at_site                   117536 non-null  int64  \n",
      " 31  carriageway_hazards                          117536 non-null  int64  \n",
      " 32  urban_or_rural_area                          117536 non-null  int64  \n",
      " 33  did_police_officer_attend_scene_of_accident  117536 non-null  int64  \n",
      " 34  trunk_road_flag                              117536 non-null  int64  \n",
      " 35  lsoa_of_accident_location                    117536 non-null  object \n",
      "dtypes: float64(4), int64(25), object(7)\n",
      "memory usage: 32.3+ MB\n"
     ]
    }
   ],
   "source": [
    "#recheck the clean data\n",
    "accidents.info()"
   ]
  },
  {
   "cell_type": "code",
   "execution_count": 11,
   "id": "77c8e321",
   "metadata": {},
   "outputs": [
    {
     "data": {
      "text/plain": [
       "accident_index                                 0\n",
       "accident_year                                  0\n",
       "accident_reference                             0\n",
       "location_easting_osgr                          0\n",
       "location_northing_osgr                         0\n",
       "longitude                                      0\n",
       "latitude                                       0\n",
       "police_force                                   0\n",
       "accident_severity                              0\n",
       "number_of_vehicles                             0\n",
       "number_of_casualties                           0\n",
       "date                                           0\n",
       "day_of_week                                    0\n",
       "time                                           0\n",
       "local_authority_district                       0\n",
       "local_authority_ons_district                   0\n",
       "local_authority_highway                        0\n",
       "first_road_class                               0\n",
       "first_road_number                              0\n",
       "road_type                                      0\n",
       "speed_limit                                    0\n",
       "junction_detail                                0\n",
       "junction_control                               0\n",
       "second_road_class                              0\n",
       "second_road_number                             0\n",
       "pedestrian_crossing_human_control              0\n",
       "pedestrian_crossing_physical_facilities        0\n",
       "light_conditions                               0\n",
       "weather_conditions                             0\n",
       "road_surface_conditions                        0\n",
       "special_conditions_at_site                     0\n",
       "carriageway_hazards                            0\n",
       "urban_or_rural_area                            0\n",
       "did_police_officer_attend_scene_of_accident    0\n",
       "trunk_road_flag                                0\n",
       "lsoa_of_accident_location                      0\n",
       "dtype: int64"
      ]
     },
     "execution_count": 11,
     "metadata": {},
     "output_type": "execute_result"
    }
   ],
   "source": [
    "accidents.isna().sum()"
   ]
  },
  {
   "cell_type": "code",
   "execution_count": 12,
   "id": "5207cc28",
   "metadata": {},
   "outputs": [
    {
     "data": {
      "text/html": [
       "<div>\n",
       "<style scoped>\n",
       "    .dataframe tbody tr th:only-of-type {\n",
       "        vertical-align: middle;\n",
       "    }\n",
       "\n",
       "    .dataframe tbody tr th {\n",
       "        vertical-align: top;\n",
       "    }\n",
       "\n",
       "    .dataframe thead th {\n",
       "        text-align: right;\n",
       "    }\n",
       "</style>\n",
       "<table border=\"1\" class=\"dataframe\">\n",
       "  <thead>\n",
       "    <tr style=\"text-align: right;\">\n",
       "      <th></th>\n",
       "      <th>accident_index</th>\n",
       "      <th>accident_year</th>\n",
       "      <th>accident_reference</th>\n",
       "      <th>location_easting_osgr</th>\n",
       "      <th>location_northing_osgr</th>\n",
       "      <th>longitude</th>\n",
       "      <th>latitude</th>\n",
       "      <th>police_force</th>\n",
       "      <th>accident_severity</th>\n",
       "      <th>number_of_vehicles</th>\n",
       "      <th>number_of_casualties</th>\n",
       "      <th>date</th>\n",
       "      <th>day_of_week</th>\n",
       "      <th>time</th>\n",
       "      <th>local_authority_district</th>\n",
       "      <th>local_authority_ons_district</th>\n",
       "      <th>local_authority_highway</th>\n",
       "      <th>first_road_class</th>\n",
       "      <th>first_road_number</th>\n",
       "      <th>road_type</th>\n",
       "      <th>speed_limit</th>\n",
       "      <th>junction_detail</th>\n",
       "      <th>junction_control</th>\n",
       "      <th>second_road_class</th>\n",
       "      <th>second_road_number</th>\n",
       "      <th>pedestrian_crossing_human_control</th>\n",
       "      <th>pedestrian_crossing_physical_facilities</th>\n",
       "      <th>light_conditions</th>\n",
       "      <th>weather_conditions</th>\n",
       "      <th>road_surface_conditions</th>\n",
       "      <th>special_conditions_at_site</th>\n",
       "      <th>carriageway_hazards</th>\n",
       "      <th>urban_or_rural_area</th>\n",
       "      <th>did_police_officer_attend_scene_of_accident</th>\n",
       "      <th>trunk_road_flag</th>\n",
       "      <th>lsoa_of_accident_location</th>\n",
       "    </tr>\n",
       "  </thead>\n",
       "  <tbody>\n",
       "  </tbody>\n",
       "</table>\n",
       "</div>"
      ],
      "text/plain": [
       "Empty DataFrame\n",
       "Columns: [accident_index, accident_year, accident_reference, location_easting_osgr, location_northing_osgr, longitude, latitude, police_force, accident_severity, number_of_vehicles, number_of_casualties, date, day_of_week, time, local_authority_district, local_authority_ons_district, local_authority_highway, first_road_class, first_road_number, road_type, speed_limit, junction_detail, junction_control, second_road_class, second_road_number, pedestrian_crossing_human_control, pedestrian_crossing_physical_facilities, light_conditions, weather_conditions, road_surface_conditions, special_conditions_at_site, carriageway_hazards, urban_or_rural_area, did_police_officer_attend_scene_of_accident, trunk_road_flag, lsoa_of_accident_location]\n",
       "Index: []"
      ]
     },
     "execution_count": 12,
     "metadata": {},
     "output_type": "execute_result"
    }
   ],
   "source": [
    "accidents[accidents.duplicated()]"
   ]
  },
  {
   "cell_type": "markdown",
   "id": "88605d4f",
   "metadata": {},
   "source": [
    "### 2.General"
   ]
  },
  {
   "cell_type": "markdown",
   "id": "f0d75790",
   "metadata": {},
   "source": [
    "### i) How many accidents happened in 2019?"
   ]
  },
  {
   "cell_type": "code",
   "execution_count": 13,
   "id": "a77cfdee",
   "metadata": {},
   "outputs": [
    {
     "data": {
      "text/plain": [
       "117536"
      ]
     },
     "execution_count": 13,
     "metadata": {},
     "output_type": "execute_result"
    }
   ],
   "source": [
    "accidents[accidents.accident_year==2019].shape[0]"
   ]
  },
  {
   "cell_type": "markdown",
   "id": "2914d3a1",
   "metadata": {},
   "source": [
    "There were $117,536$ accidents in 2019."
   ]
  },
  {
   "cell_type": "markdown",
   "id": "4356bb26",
   "metadata": {},
   "source": [
    "### ii) What are the column names in the data frame?"
   ]
  },
  {
   "cell_type": "code",
   "execution_count": 14,
   "id": "1c9262c1",
   "metadata": {},
   "outputs": [
    {
     "data": {
      "text/plain": [
       "Index(['accident_index', 'accident_year', 'accident_reference',\n",
       "       'location_easting_osgr', 'location_northing_osgr', 'longitude',\n",
       "       'latitude', 'police_force', 'accident_severity', 'number_of_vehicles',\n",
       "       'number_of_casualties', 'date', 'day_of_week', 'time',\n",
       "       'local_authority_district', 'local_authority_ons_district',\n",
       "       'local_authority_highway', 'first_road_class', 'first_road_number',\n",
       "       'road_type', 'speed_limit', 'junction_detail', 'junction_control',\n",
       "       'second_road_class', 'second_road_number',\n",
       "       'pedestrian_crossing_human_control',\n",
       "       'pedestrian_crossing_physical_facilities', 'light_conditions',\n",
       "       'weather_conditions', 'road_surface_conditions',\n",
       "       'special_conditions_at_site', 'carriageway_hazards',\n",
       "       'urban_or_rural_area', 'did_police_officer_attend_scene_of_accident',\n",
       "       'trunk_road_flag', 'lsoa_of_accident_location'],\n",
       "      dtype='object')"
      ]
     },
     "execution_count": 14,
     "metadata": {},
     "output_type": "execute_result"
    }
   ],
   "source": [
    "accidents.columns"
   ]
  },
  {
   "cell_type": "markdown",
   "id": "c25578d3",
   "metadata": {},
   "source": [
    "### iii) Date (day/month/year) and coordinates(longitude and latitude) of\n",
    "###   of the accident in the 100th row of the dataframe"
   ]
  },
  {
   "cell_type": "code",
   "execution_count": 15,
   "id": "44978140",
   "metadata": {},
   "outputs": [
    {
     "data": {
      "text/html": [
       "<div>\n",
       "<style scoped>\n",
       "    .dataframe tbody tr th:only-of-type {\n",
       "        vertical-align: middle;\n",
       "    }\n",
       "\n",
       "    .dataframe tbody tr th {\n",
       "        vertical-align: top;\n",
       "    }\n",
       "\n",
       "    .dataframe thead th {\n",
       "        text-align: right;\n",
       "    }\n",
       "</style>\n",
       "<table border=\"1\" class=\"dataframe\">\n",
       "  <thead>\n",
       "    <tr style=\"text-align: right;\">\n",
       "      <th></th>\n",
       "      <th>date</th>\n",
       "      <th>longitude</th>\n",
       "      <th>latitude</th>\n",
       "    </tr>\n",
       "  </thead>\n",
       "  <tbody>\n",
       "    <tr>\n",
       "      <th>99</th>\n",
       "      <td>03/01/2019</td>\n",
       "      <td>-0.264403</td>\n",
       "      <td>51.498486</td>\n",
       "    </tr>\n",
       "  </tbody>\n",
       "</table>\n",
       "</div>"
      ],
      "text/plain": [
       "          date  longitude   latitude\n",
       "99  03/01/2019  -0.264403  51.498486"
      ]
     },
     "execution_count": 15,
     "metadata": {},
     "output_type": "execute_result"
    }
   ],
   "source": [
    "accidents.iloc[[99]].loc[:,['date', 'longitude', 'latitude']]"
   ]
  },
  {
   "cell_type": "markdown",
   "id": "d6023e59",
   "metadata": {},
   "source": [
    "### iv) Any of the columns containing information about the type of vehicles\n",
    "### inolved in the accident"
   ]
  },
  {
   "cell_type": "code",
   "execution_count": 16,
   "id": "2768a80e",
   "metadata": {},
   "outputs": [
    {
     "data": {
      "text/plain": [
       "False"
      ]
     },
     "execution_count": 16,
     "metadata": {},
     "output_type": "execute_result"
    }
   ],
   "source": [
    "'type' in accidents.columns"
   ]
  },
  {
   "cell_type": "markdown",
   "id": "90918b84",
   "metadata": {},
   "source": [
    "There is no column containing information about the type of vehicles involed in the accident"
   ]
  },
  {
   "cell_type": "markdown",
   "id": "4ab6e040",
   "metadata": {},
   "source": [
    "## 3. Casualties"
   ]
  },
  {
   "cell_type": "markdown",
   "id": "87c5a42b",
   "metadata": {},
   "source": [
    "### i) Calculate the total numbers of casualties"
   ]
  },
  {
   "cell_type": "code",
   "execution_count": 17,
   "id": "5fae6657",
   "metadata": {},
   "outputs": [
    {
     "name": "stdout",
     "output_type": "stream",
     "text": [
      "153158\n"
     ]
    }
   ],
   "source": [
    "# total number of casualties\n",
    "print(accidents['number_of_casualties'].sum())"
   ]
  },
  {
   "cell_type": "markdown",
   "id": "e3fb7b1f",
   "metadata": {},
   "source": [
    "### ii) The difference in the number of casualties between Lower Layer Super Output area (LSOA) E01032739 (City of London 001F) and E01033708 (Hackney 027G)"
   ]
  },
  {
   "cell_type": "code",
   "execution_count": 18,
   "id": "b96a5bbf",
   "metadata": {},
   "outputs": [
    {
     "name": "stdout",
     "output_type": "stream",
     "text": [
      "Number of Casualties in LSOA E01032739 city of London:\t 212\n",
      "Number of Casualties in LSOA E01033708 Hackney 027G:\t 76\n",
      "Difference in the number of casualties between the two:\t 136\n"
     ]
    }
   ],
   "source": [
    "lsoa_london_001f_casualties = accidents[accidents.lsoa_of_accident_location=='E01032739'].number_of_casualties.sum()\n",
    "lsoa_hackney_027g_casualties = accidents[accidents.lsoa_of_accident_location=='E01033708'].number_of_casualties.sum()\n",
    "diff_london_hackney_casualties = abs(lsoa_london_001f_casualties-lsoa_hackney_027g_casualties)\n",
    "\n",
    "print(f\"\"\"Number of Casualties in LSOA E01032739 city of London:\\t {lsoa_london_001f_casualties}\n",
    "Number of Casualties in LSOA E01033708 Hackney 027G:\\t {lsoa_hackney_027g_casualties}\n",
    "Difference in the number of casualties between the two:\\t {diff_london_hackney_casualties}\"\"\")"
   ]
  },
  {
   "cell_type": "markdown",
   "id": "2c42f898",
   "metadata": {},
   "source": [
    "### iii) What LSOA saw the highest total number of casualties in 2019?"
   ]
  },
  {
   "cell_type": "code",
   "execution_count": 19,
   "id": "66c7a62b",
   "metadata": {},
   "outputs": [
    {
     "data": {
      "text/plain": [
       "lsoa_of_accident_location\n",
       "-1    3871\n",
       "Name: number_of_casualties, dtype: int64"
      ]
     },
     "execution_count": 19,
     "metadata": {},
     "output_type": "execute_result"
    }
   ],
   "source": [
    "accidents.groupby('lsoa_of_accident_location').number_of_casualties.sum().sort_values(ascending=False).head(1)"
   ]
  },
  {
   "cell_type": "markdown",
   "id": "59125da0",
   "metadata": {},
   "source": [
    "LSOA -1 saw the highest total number of casualties (3871) in 2019"
   ]
  },
  {
   "cell_type": "markdown",
   "id": "d3f64aee",
   "metadata": {},
   "source": [
    "## 4. Police officer attendance"
   ]
  },
  {
   "cell_type": "markdown",
   "id": "b56e6e72",
   "metadata": {},
   "source": [
    "### i) Possible values that occur in the column Did_Police_officer_Attend_Scene_Of_Accident\n",
    "###  and how often each value occurs"
   ]
  },
  {
   "cell_type": "code",
   "execution_count": 20,
   "id": "7201aae1",
   "metadata": {},
   "outputs": [
    {
     "data": {
      "text/plain": [
       "array([3, 1, 2], dtype=int64)"
      ]
     },
     "execution_count": 20,
     "metadata": {},
     "output_type": "execute_result"
    }
   ],
   "source": [
    "# possible values in the column Did_Police_officer_Attend_Scene_Of_Accident\n",
    "accidents['did_police_officer_attend_scene_of_accident'].unique()"
   ]
  },
  {
   "cell_type": "markdown",
   "id": "55f241ac",
   "metadata": {},
   "source": [
    "The possible values are integers containing the numbers ranging from 1 to 3, ie (1, 2 and 3)"
   ]
  },
  {
   "cell_type": "code",
   "execution_count": 21,
   "id": "8a404ff7",
   "metadata": {},
   "outputs": [
    {
     "data": {
      "text/plain": [
       "1    81309\n",
       "2    26285\n",
       "3     9942\n",
       "Name: did_police_officer_attend_scene_of_accident, dtype: int64"
      ]
     },
     "execution_count": 21,
     "metadata": {},
     "output_type": "execute_result"
    }
   ],
   "source": [
    "# How often each value occurs \n",
    "accidents['did_police_officer_attend_scene_of_accident'].value_counts()"
   ]
  },
  {
   "cell_type": "code",
   "execution_count": 22,
   "id": "551eae8b",
   "metadata": {},
   "outputs": [
    {
     "data": {
      "text/plain": [
       "1    0.691780\n",
       "2    0.223634\n",
       "3    0.084587\n",
       "Name: did_police_officer_attend_scene_of_accident, dtype: float64"
      ]
     },
     "execution_count": 22,
     "metadata": {},
     "output_type": "execute_result"
    }
   ],
   "source": [
    "accidents.did_police_officer_attend_scene_of_accident.value_counts(normalize=True)"
   ]
  },
  {
   "cell_type": "markdown",
   "id": "96aacf70",
   "metadata": {},
   "source": [
    "1 occured $81,309$ times which is $69%$, 2 $26, 285$ times (22%) and 3 (9942 times) which is 8%"
   ]
  },
  {
   "cell_type": "markdown",
   "id": "683a6bfd",
   "metadata": {},
   "source": [
    "### Meaning of the other values in the `Did_Police_officer_Attend_Scene_Of_Accident` column"
   ]
  },
  {
   "cell_type": "markdown",
   "id": "b0d51ead",
   "metadata": {},
   "source": [
    "- value 2 did not attend the scene of the accident\n",
    "- value 3 means that it is not known whether a police officer attended or did not attend scene of accident"
   ]
  },
  {
   "cell_type": "markdown",
   "id": "29c10813",
   "metadata": {},
   "source": [
    "### iii) fraction of accidents attended by a police officer\n"
   ]
  },
  {
   "cell_type": "code",
   "execution_count": 23,
   "id": "5ee4000a",
   "metadata": {},
   "outputs": [
    {
     "data": {
      "text/plain": [
       "0.6917795398856521"
      ]
     },
     "execution_count": 23,
     "metadata": {},
     "output_type": "execute_result"
    }
   ],
   "source": [
    "(accidents.did_police_officer_attend_scene_of_accident==1).mean()"
   ]
  },
  {
   "cell_type": "markdown",
   "id": "5608d7d7",
   "metadata": {},
   "source": [
    "above $\\frac{69}{100}$ of the accidents were attended by a police officier."
   ]
  },
  {
   "cell_type": "markdown",
   "id": "a2e33bbb",
   "metadata": {},
   "source": [
    "### iv) fraction of accidents attended by a police officer on a weekday and how the number compare to the corresponding fraction of accidents on weekends"
   ]
  },
  {
   "cell_type": "code",
   "execution_count": 24,
   "id": "6966b048",
   "metadata": {},
   "outputs": [
    {
     "data": {
      "text/plain": [
       "0.6897882398340649"
      ]
     },
     "execution_count": 24,
     "metadata": {},
     "output_type": "execute_result"
    }
   ],
   "source": [
    "(accidents[accidents.day_of_week<6]['did_police_officer_attend_scene_of_accident']==1).mean()"
   ]
  },
  {
   "cell_type": "markdown",
   "id": "41723bca",
   "metadata": {},
   "source": [
    "About 69% of the accidents happen on weekdays, therefore the remaining 31% happen during the weekends."
   ]
  },
  {
   "cell_type": "markdown",
   "id": "3af7569d",
   "metadata": {},
   "source": [
    "## 5. Visualization"
   ]
  },
  {
   "cell_type": "markdown",
   "id": "b8844dfe",
   "metadata": {},
   "source": [
    "### i) scatter plot of Latitude vs Longitude "
   ]
  },
  {
   "cell_type": "code",
   "execution_count": 25,
   "id": "ea2011aa",
   "metadata": {},
   "outputs": [
    {
     "data": {
      "image/png": "[encoded data removed]",
      "text/plain": [
       "<Figure size 720x720 with 1 Axes>"
      ]
     },
     "metadata": {
      "needs_background": "light"
     },
     "output_type": "display_data"
    }
   ],
   "source": [
    "fig, ax = plt.subplots(figsize = (10,10))\n",
    "sns.scatterplot(x='latitude', y='longitude', data=accidents).set(\n",
    "    ylabel='longitude', xlabel='latitude',title='locations of accidents (Lattitude VS Longitude)'\n",
    ")\n",
    "plt.show()                                                              "
   ]
  },
  {
   "cell_type": "markdown",
   "id": "fa31299e",
   "metadata": {},
   "source": [
    "### iv)"
   ]
  },
  {
   "cell_type": "code",
   "execution_count": 27,
   "id": "9fe339a8",
   "metadata": {},
   "outputs": [
    {
     "data": {
      "image/png": "[encoded data removed]",
      "text/plain": [
       "<Figure size 864x864 with 1 Axes>"
      ]
     },
     "metadata": {
      "needs_background": "light"
     },
     "output_type": "display_data"
    }
   ],
   "source": [
    "plt.figure(figsize = (12,12))\n",
    "sns.scatterplot(x='latitude', y='longitude', data=accidents, hue = 'urban_or_rural_area')\n",
    "plt.ylabel('longitude')\n",
    "plt.xlabel('latitude')\n",
    "plt.title('locations of accidents')\n",
    "#plt.text('Exeter', marker = 'r')\n",
    "plt.show()"
   ]
  },
  {
   "cell_type": "markdown",
   "id": "cdf955f0",
   "metadata": {},
   "source": [
    "### iii) Are accidents at higher speed limits more likely to be fatal than at lower speeds?"
   ]
  },
  {
   "cell_type": "code",
   "execution_count": 28,
   "id": "c46e50a2",
   "metadata": {},
   "outputs": [
    {
     "data": {
      "image/png": "[encoded data removed]",
      "text/plain": [
       "<Figure size 720x576 with 1 Axes>"
      ]
     },
     "metadata": {
      "needs_background": "light"
     },
     "output_type": "display_data"
    }
   ],
   "source": [
    "plt.figure(figsize = (10,8))\n",
    "sns.barplot(x = 'speed_limit', y = 'number_of_casualties', data = accidents)\n",
    "plt.title(\"Speed limit effect to the number of casualties\")\n",
    "plt.show()"
   ]
  },
  {
   "cell_type": "markdown",
   "id": "aed5ad37",
   "metadata": {},
   "source": [
    "From the above plot, every speed limit courses fatality, as the speed limit increases, the number of fatality also increases, therefore, it is evident that  accidents at higher speed limits more likely to be fatal than at lower speed limits."
   ]
  },
  {
   "cell_type": "markdown",
   "id": "365b0fd4",
   "metadata": {},
   "source": [
    "## Gym exercise and physiology data"
   ]
  },
  {
   "cell_type": "code",
   "execution_count": 29,
   "id": "6945d5dd",
   "metadata": {},
   "outputs": [],
   "source": [
    "from sklearn.datasets import load_linnerud\n",
    "linnerud = load_linnerud()"
   ]
  },
  {
   "cell_type": "markdown",
   "id": "e821052a",
   "metadata": {},
   "source": [
    "## 6. Regression Analysis"
   ]
  },
  {
   "cell_type": "markdown",
   "id": "2efd3acc",
   "metadata": {},
   "source": [
    "### (i) authors last name and year of study"
   ]
  },
  {
   "cell_type": "code",
   "execution_count": 30,
   "id": "1f70563e",
   "metadata": {},
   "outputs": [
    {
     "name": "stdout",
     "output_type": "stream",
     "text": [
      ".. _linnerrud_dataset:\n",
      "\n",
      "Linnerrud dataset\n",
      "-----------------\n",
      "\n",
      "**Data Set Characteristics:**\n",
      "\n",
      "    :Number of Instances: 20\n",
      "    :Number of Attributes: 3\n",
      "    :Missing Attribute Values: None\n",
      "\n",
      "The Linnerud dataset is a multi-output regression dataset. It consists of three\n",
      "excercise (data) and three physiological (target) variables collected from\n",
      "twenty middle-aged men in a fitness club:\n",
      "\n",
      "- *physiological* - CSV containing 20 observations on 3 physiological variables:\n",
      "   Weight, Waist and Pulse.\n",
      "- *exercise* - CSV containing 20 observations on 3 exercise variables:\n",
      "   Chins, Situps and Jumps.\n",
      "\n",
      ".. topic:: References\n",
      "\n",
      "  * Tenenhaus, M. (1998). La regression PLS: theorie et pratique. Paris:\n",
      "    Editions Technic.\n",
      "\n"
     ]
    }
   ],
   "source": [
    "print(linnerud.DESCR)"
   ]
  },
  {
   "cell_type": "markdown",
   "id": "9ffd021a",
   "metadata": {},
   "source": [
    "The authors last name is **Tenenhaus**, the year of study that the data first appeared is $1998$"
   ]
  },
  {
   "cell_type": "markdown",
   "id": "e7ba4b1c",
   "metadata": {},
   "source": [
    "### (ii) fitting simple linear regression model and reporting the fitted regression coeffiecients and slope interpretation"
   ]
  },
  {
   "cell_type": "code",
   "execution_count": 31,
   "id": "44bf9066",
   "metadata": {},
   "outputs": [
    {
     "data": {
      "text/html": [
       "<div>\n",
       "<style scoped>\n",
       "    .dataframe tbody tr th:only-of-type {\n",
       "        vertical-align: middle;\n",
       "    }\n",
       "\n",
       "    .dataframe tbody tr th {\n",
       "        vertical-align: top;\n",
       "    }\n",
       "\n",
       "    .dataframe thead th {\n",
       "        text-align: right;\n",
       "    }\n",
       "</style>\n",
       "<table border=\"1\" class=\"dataframe\">\n",
       "  <thead>\n",
       "    <tr style=\"text-align: right;\">\n",
       "      <th></th>\n",
       "      <th>Chins</th>\n",
       "      <th>Situps</th>\n",
       "      <th>Jumps</th>\n",
       "    </tr>\n",
       "  </thead>\n",
       "  <tbody>\n",
       "    <tr>\n",
       "      <th>0</th>\n",
       "      <td>5.0</td>\n",
       "      <td>162.0</td>\n",
       "      <td>60.0</td>\n",
       "    </tr>\n",
       "    <tr>\n",
       "      <th>1</th>\n",
       "      <td>2.0</td>\n",
       "      <td>110.0</td>\n",
       "      <td>60.0</td>\n",
       "    </tr>\n",
       "    <tr>\n",
       "      <th>2</th>\n",
       "      <td>12.0</td>\n",
       "      <td>101.0</td>\n",
       "      <td>101.0</td>\n",
       "    </tr>\n",
       "    <tr>\n",
       "      <th>3</th>\n",
       "      <td>12.0</td>\n",
       "      <td>105.0</td>\n",
       "      <td>37.0</td>\n",
       "    </tr>\n",
       "    <tr>\n",
       "      <th>4</th>\n",
       "      <td>13.0</td>\n",
       "      <td>155.0</td>\n",
       "      <td>58.0</td>\n",
       "    </tr>\n",
       "  </tbody>\n",
       "</table>\n",
       "</div>"
      ],
      "text/plain": [
       "   Chins  Situps  Jumps\n",
       "0    5.0   162.0   60.0\n",
       "1    2.0   110.0   60.0\n",
       "2   12.0   101.0  101.0\n",
       "3   12.0   105.0   37.0\n",
       "4   13.0   155.0   58.0"
      ]
     },
     "execution_count": 31,
     "metadata": {},
     "output_type": "execute_result"
    }
   ],
   "source": [
    "X = pd.DataFrame(linnerud.data, columns=linnerud.feature_names)\n",
    "X.head()"
   ]
  },
  {
   "cell_type": "code",
   "execution_count": 32,
   "id": "17533ae1",
   "metadata": {},
   "outputs": [
    {
     "data": {
      "text/html": [
       "<div>\n",
       "<style scoped>\n",
       "    .dataframe tbody tr th:only-of-type {\n",
       "        vertical-align: middle;\n",
       "    }\n",
       "\n",
       "    .dataframe tbody tr th {\n",
       "        vertical-align: top;\n",
       "    }\n",
       "\n",
       "    .dataframe thead th {\n",
       "        text-align: right;\n",
       "    }\n",
       "</style>\n",
       "<table border=\"1\" class=\"dataframe\">\n",
       "  <thead>\n",
       "    <tr style=\"text-align: right;\">\n",
       "      <th></th>\n",
       "      <th>Weight</th>\n",
       "      <th>Waist</th>\n",
       "      <th>Pulse</th>\n",
       "    </tr>\n",
       "  </thead>\n",
       "  <tbody>\n",
       "    <tr>\n",
       "      <th>0</th>\n",
       "      <td>191.0</td>\n",
       "      <td>36.0</td>\n",
       "      <td>50.0</td>\n",
       "    </tr>\n",
       "    <tr>\n",
       "      <th>1</th>\n",
       "      <td>189.0</td>\n",
       "      <td>37.0</td>\n",
       "      <td>52.0</td>\n",
       "    </tr>\n",
       "    <tr>\n",
       "      <th>2</th>\n",
       "      <td>193.0</td>\n",
       "      <td>38.0</td>\n",
       "      <td>58.0</td>\n",
       "    </tr>\n",
       "    <tr>\n",
       "      <th>3</th>\n",
       "      <td>162.0</td>\n",
       "      <td>35.0</td>\n",
       "      <td>62.0</td>\n",
       "    </tr>\n",
       "    <tr>\n",
       "      <th>4</th>\n",
       "      <td>189.0</td>\n",
       "      <td>35.0</td>\n",
       "      <td>46.0</td>\n",
       "    </tr>\n",
       "  </tbody>\n",
       "</table>\n",
       "</div>"
      ],
      "text/plain": [
       "   Weight  Waist  Pulse\n",
       "0   191.0   36.0   50.0\n",
       "1   189.0   37.0   52.0\n",
       "2   193.0   38.0   58.0\n",
       "3   162.0   35.0   62.0\n",
       "4   189.0   35.0   46.0"
      ]
     },
     "execution_count": 32,
     "metadata": {},
     "output_type": "execute_result"
    }
   ],
   "source": [
    "y = pd.DataFrame(linnerud.target, columns=linnerud.target_names)\n",
    "y.head()"
   ]
  },
  {
   "cell_type": "code",
   "execution_count": 33,
   "id": "e2734991",
   "metadata": {},
   "outputs": [
    {
     "data": {
      "text/plain": [
       "LinearRegression()"
      ]
     },
     "execution_count": 33,
     "metadata": {},
     "output_type": "execute_result"
    }
   ],
   "source": [
    "lm = LinearRegression()\n",
    "lm.fit(X.Chins.values.reshape((-1,1)),y.Weight)"
   ]
  },
  {
   "cell_type": "code",
   "execution_count": 52,
   "id": "54d6ed67",
   "metadata": {},
   "outputs": [
    {
     "data": {
      "text/plain": [
       "array([-1.82013372])"
      ]
     },
     "execution_count": 52,
     "metadata": {},
     "output_type": "execute_result"
    }
   ],
   "source": [
    "lm.coef_"
   ]
  },
  {
   "cell_type": "markdown",
   "id": "cee4898d",
   "metadata": {},
   "source": [
    "The fitted regression coefficient is negative, regression coefficient gives the slope coefficient.  A negative coefficient suggests that as the independent variable increases, the dependent variable tends to decrease."
   ]
  },
  {
   "cell_type": "markdown",
   "id": "05a4d753",
   "metadata": {},
   "source": [
    "### (iii)  middle-aged male, 170 pounds (“Weight”), 32 inch waist size (“Waist”), and aresting heart rate of 70 (“Pulse”)? How many chin-ups (“Chins”) do you think he can do?"
   ]
  },
  {
   "cell_type": "code",
   "execution_count": 34,
   "id": "61178a65",
   "metadata": {},
   "outputs": [
    {
     "data": {
      "text/html": [
       "<div>\n",
       "<style scoped>\n",
       "    .dataframe tbody tr th:only-of-type {\n",
       "        vertical-align: middle;\n",
       "    }\n",
       "\n",
       "    .dataframe tbody tr th {\n",
       "        vertical-align: top;\n",
       "    }\n",
       "\n",
       "    .dataframe thead th {\n",
       "        text-align: right;\n",
       "    }\n",
       "</style>\n",
       "<table border=\"1\" class=\"dataframe\">\n",
       "  <thead>\n",
       "    <tr style=\"text-align: right;\">\n",
       "      <th></th>\n",
       "      <th>Weight</th>\n",
       "      <th>Waist</th>\n",
       "      <th>Pulse</th>\n",
       "    </tr>\n",
       "  </thead>\n",
       "  <tbody>\n",
       "    <tr>\n",
       "      <th>0</th>\n",
       "      <td>191.0</td>\n",
       "      <td>36.0</td>\n",
       "      <td>50.0</td>\n",
       "    </tr>\n",
       "    <tr>\n",
       "      <th>1</th>\n",
       "      <td>189.0</td>\n",
       "      <td>37.0</td>\n",
       "      <td>52.0</td>\n",
       "    </tr>\n",
       "    <tr>\n",
       "      <th>2</th>\n",
       "      <td>193.0</td>\n",
       "      <td>38.0</td>\n",
       "      <td>58.0</td>\n",
       "    </tr>\n",
       "    <tr>\n",
       "      <th>3</th>\n",
       "      <td>162.0</td>\n",
       "      <td>35.0</td>\n",
       "      <td>62.0</td>\n",
       "    </tr>\n",
       "    <tr>\n",
       "      <th>4</th>\n",
       "      <td>189.0</td>\n",
       "      <td>35.0</td>\n",
       "      <td>46.0</td>\n",
       "    </tr>\n",
       "  </tbody>\n",
       "</table>\n",
       "</div>"
      ],
      "text/plain": [
       "   Weight  Waist  Pulse\n",
       "0   191.0   36.0   50.0\n",
       "1   189.0   37.0   52.0\n",
       "2   193.0   38.0   58.0\n",
       "3   162.0   35.0   62.0\n",
       "4   189.0   35.0   46.0"
      ]
     },
     "execution_count": 34,
     "metadata": {},
     "output_type": "execute_result"
    }
   ],
   "source": [
    "X_train = pd.DataFrame(linnerud.target, columns=linnerud.target_names)\n",
    "X_train.head()"
   ]
  },
  {
   "cell_type": "code",
   "execution_count": 35,
   "id": "e1753059",
   "metadata": {},
   "outputs": [
    {
     "data": {
      "text/plain": [
       "0     5.0\n",
       "1     2.0\n",
       "2    12.0\n",
       "3    12.0\n",
       "4    13.0\n",
       "Name: Chins, dtype: float64"
      ]
     },
     "execution_count": 35,
     "metadata": {},
     "output_type": "execute_result"
    }
   ],
   "source": [
    "y_train = pd.DataFrame(linnerud.data, columns=linnerud.feature_names)['Chins']\n",
    "y_train.head()"
   ]
  },
  {
   "cell_type": "code",
   "execution_count": 36,
   "id": "e8db97b0",
   "metadata": {},
   "outputs": [
    {
     "data": {
      "text/plain": [
       "array([13.45840241])"
      ]
     },
     "execution_count": 36,
     "metadata": {},
     "output_type": "execute_result"
    }
   ],
   "source": [
    "lr2 = LinearRegression()\n",
    "lr2.fit(X_train, y_train)\n",
    "\n",
    "# predict the number of chinups the middle aged man can do\n",
    "X_test = pd.DataFrame([[170, 32, 70]], columns=linnerud.target_names)\n",
    "pred = lr2.predict(X_test)\n",
    "pred"
   ]
  },
  {
   "cell_type": "markdown",
   "id": "5e5e5d35",
   "metadata": {},
   "source": [
    " The lecturer, a middle-aged male, with 170 pounds (“Weight”), 32 inch waist size (“Waist”), and a\n",
    "resting heart rate of 70 (“Pulse”) can do approximately 13 chin-ups"
   ]
  },
  {
   "cell_type": "markdown",
   "id": "05f8e5da",
   "metadata": {},
   "source": [
    "## 7. Dimensionality Reduction"
   ]
  },
  {
   "cell_type": "markdown",
   "id": "352ae33f",
   "metadata": {},
   "source": [
    "### (i) What linear combination $\\alpha_w$ W +$\\alpha_c$ C +$\\alpha_p$ P of the physiological variables weight W, waist circumference C and pulse P has the highest possible variance among all possible linear transformations?"
   ]
  },
  {
   "cell_type": "code",
   "execution_count": 37,
   "id": "fb7b69dd",
   "metadata": {},
   "outputs": [
    {
     "name": "stdout",
     "output_type": "stream",
     "text": [
      "[624.93238458  44.48783784   2.44293548]\n"
     ]
    },
    {
     "data": {
      "text/plain": [
       "array([0.93, 0.07, 0.  ])"
      ]
     },
     "execution_count": 37,
     "metadata": {},
     "output_type": "execute_result"
    }
   ],
   "source": [
    "pca = PCA(n_components=3, random_state=42)\n",
    "pca.fit(X_train)\n",
    "print(pca.explained_variance_)\n",
    "np.round(pca.explained_variance_ratio_,2)"
   ]
  },
  {
   "cell_type": "markdown",
   "id": "c954a2ad",
   "metadata": {},
   "source": [
    "linear compination $\\alpha_w$ W has the highest variance ration of 0.93, followed by $\\alpha_c$ C by of 0.07"
   ]
  },
  {
   "cell_type": "markdown",
   "id": "cb1c6810",
   "metadata": {},
   "source": [
    "### (ii) What might the interpretation of this one-dimensional representation of a person’s physiological factors be, and in what context could it be useful?"
   ]
  },
  {
   "cell_type": "markdown",
   "id": "ba42c7af",
   "metadata": {},
   "source": [
    "A person's weight is the causation of all the factors it is influenced by  level of physical activity, diet, and some environmental and social factors and all this affect the waist and pulse of a person."
   ]
  },
  {
   "cell_type": "markdown",
   "id": "3aed7bb8",
   "metadata": {},
   "source": [
    "### What is the variance of the linear combination with αw = αc = αp = $\\sqrt{\\frac{1}{3}}$ and how does this variance compare to the variance of the linear combination calculated in question 7(i)?"
   ]
  },
  {
   "cell_type": "code",
   "execution_count": 38,
   "id": "61dacc95",
   "metadata": {},
   "outputs": [
    {
     "name": "stdout",
     "output_type": "stream",
     "text": [
      "[624.93238458]\n"
     ]
    },
    {
     "data": {
      "text/plain": [
       "array([0.93014832])"
      ]
     },
     "execution_count": 38,
     "metadata": {},
     "output_type": "execute_result"
    }
   ],
   "source": [
    "pca2 = PCA(n_components=1, random_state=3)\n",
    "pca2.fit(X_train)\n",
    "print(pca2.explained_variance_)\n",
    "pca2.explained_variance_ratio_"
   ]
  },
  {
   "cell_type": "markdown",
   "id": "0503bcee",
   "metadata": {},
   "source": [
    "With the stated linear combination, it'll result to 1 feature that maximizes the variance"
   ]
  }
 ],
 "metadata": {
  "kernelspec": {
   "display_name": "Python 3",
   "language": "python",
   "name": "python3"
  },
  "language_info": {
   "codemirror_mode": {
    "name": "ipython",
    "version": 3
   },
   "file_extension": ".py",
   "mimetype": "text/x-python",
   "name": "python",
   "nbconvert_exporter": "python",
   "pygments_lexer": "ipython3",
   "version": "3.8.8"
  }
 },
 "nbformat": 4,
 "nbformat_minor": 5
}
